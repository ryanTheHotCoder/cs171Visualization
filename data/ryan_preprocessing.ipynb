{
 "cells": [
  {
   "cell_type": "code",
   "execution_count": 1,
   "metadata": {},
   "outputs": [],
   "source": [
    "import pandas as pd\n",
    "\n",
    "# Load dataset^\n",
    "cost_supplement_df = pd.read_csv('./cspuf2021.csv')"
   ]
  },
  {
   "cell_type": "code",
   "execution_count": 2,
   "metadata": {},
   "outputs": [],
   "source": [
    "# Check for missing values and handle them (e.g., fill with 0 or drop rows if appropriate)\n",
    "cost_supplement_df.fillna(0, inplace=True)"
   ]
  },
  {
   "cell_type": "code",
   "execution_count": 3,
   "metadata": {},
   "outputs": [],
   "source": [
    "# Convert relevant columns to numeric types, especially payment columns\n",
    "payment_columns = [\n",
    "    'PAMTDU', 'PAMTVU', 'PAMTHU', 'PAMTHH', 'PAMTIP', 'PAMTMP', 'PAMTOP', \n",
    "    'PAMTPM', 'PAMTTOT', 'PAMTCARE', 'PAMTCAID', 'PAMTMADV', 'PAMTALPR', 'PAMTOOP'\n",
    "]\n",
    "cost_supplement_df[payment_columns] = cost_supplement_df[payment_columns].apply(pd.to_numeric, errors='coerce')\n",
    "\n",
    "# Drop rows where any critical payment columns are still NaN after conversion\n",
    "cost_supplement_df.dropna(subset=payment_columns, inplace=True)"
   ]
  },
  {
   "cell_type": "code",
   "execution_count": 5,
   "metadata": {},
   "outputs": [
    {
     "data": {
      "text/html": [
       "<div>\n",
       "<style scoped>\n",
       "    .dataframe tbody tr th:only-of-type {\n",
       "        vertical-align: middle;\n",
       "    }\n",
       "\n",
       "    .dataframe tbody tr th {\n",
       "        vertical-align: top;\n",
       "    }\n",
       "\n",
       "    .dataframe thead th {\n",
       "        text-align: right;\n",
       "    }\n",
       "</style>\n",
       "<table border=\"1\" class=\"dataframe\">\n",
       "  <thead>\n",
       "    <tr style=\"text-align: right;\">\n",
       "      <th></th>\n",
       "      <th>PUF_ID</th>\n",
       "      <th>CSP_INCOME</th>\n",
       "      <th>PAMTOOP</th>\n",
       "      <th>PAMTTOT</th>\n",
       "    </tr>\n",
       "  </thead>\n",
       "  <tbody>\n",
       "    <tr>\n",
       "      <th>0</th>\n",
       "      <td>92100016</td>\n",
       "      <td>NaN</td>\n",
       "      <td>1093.18</td>\n",
       "      <td>5809.50</td>\n",
       "    </tr>\n",
       "    <tr>\n",
       "      <th>1</th>\n",
       "      <td>92100019</td>\n",
       "      <td>NaN</td>\n",
       "      <td>37203.18</td>\n",
       "      <td>64338.53</td>\n",
       "    </tr>\n",
       "    <tr>\n",
       "      <th>2</th>\n",
       "      <td>92100022</td>\n",
       "      <td>NaN</td>\n",
       "      <td>568.44</td>\n",
       "      <td>1273.55</td>\n",
       "    </tr>\n",
       "    <tr>\n",
       "      <th>3</th>\n",
       "      <td>92100023</td>\n",
       "      <td>NaN</td>\n",
       "      <td>5680.12</td>\n",
       "      <td>38927.68</td>\n",
       "    </tr>\n",
       "    <tr>\n",
       "      <th>4</th>\n",
       "      <td>92100028</td>\n",
       "      <td>NaN</td>\n",
       "      <td>1030.65</td>\n",
       "      <td>7267.93</td>\n",
       "    </tr>\n",
       "  </tbody>\n",
       "</table>\n",
       "</div>"
      ],
      "text/plain": [
       "     PUF_ID CSP_INCOME   PAMTOOP   PAMTTOT\n",
       "0  92100016        NaN   1093.18   5809.50\n",
       "1  92100019        NaN  37203.18  64338.53\n",
       "2  92100022        NaN    568.44   1273.55\n",
       "3  92100023        NaN   5680.12  38927.68\n",
       "4  92100028        NaN   1030.65   7267.93"
      ]
     },
     "execution_count": 5,
     "metadata": {},
     "output_type": "execute_result"
    }
   ],
   "source": [
    "# Categorize income levels in 'CSP_INCOME' (1 = \"<$25,000\", 2 = \">=$25,000\")\n",
    "income_mapping = {1: \"<$25,000\", 2: \">=$25,000\"}\n",
    "cost_supplement_df['CSP_INCOME'] = cost_supplement_df['CSP_INCOME'].map(income_mapping)\n",
    "\n",
    "# Select relevant columns for analysis\n",
    "selected_columns = ['PUF_ID', 'CSP_INCOME', 'PAMTOOP', 'PAMTTOT']\n",
    "processed_df = cost_supplement_df[selected_columns]\n",
    "\n",
    "# Save the cleaned and processed data for analysis or visualization\n",
    "processed_df.to_csv('./processed_mcbs_cost_supplement.csv', index=False)\n",
    "\n",
    "# Display the first few rows of the processed data\n",
    "processed_df.head()"
   ]
  },
  {
   "cell_type": "code",
   "execution_count": null,
   "metadata": {},
   "outputs": [],
   "source": []
  }
 ],
 "metadata": {
  "kernelspec": {
   "display_name": "Python 3",
   "language": "python",
   "name": "python3"
  },
  "language_info": {
   "codemirror_mode": {
    "name": "ipython",
    "version": 3
   },
   "file_extension": ".py",
   "mimetype": "text/x-python",
   "name": "python",
   "nbconvert_exporter": "python",
   "pygments_lexer": "ipython3",
   "version": "3.10.6"
  }
 },
 "nbformat": 4,
 "nbformat_minor": 2
}
